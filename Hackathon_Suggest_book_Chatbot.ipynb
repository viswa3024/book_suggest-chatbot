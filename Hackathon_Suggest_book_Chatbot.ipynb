{
  "nbformat": 4,
  "nbformat_minor": 0,
  "metadata": {
    "colab": {
      "provenance": []
    },
    "kernelspec": {
      "display_name": "Python 3",
      "language": "python",
      "name": "python3"
    },
    "language_info": {
      "codemirror_mode": {
        "name": "ipython",
        "version": 3
      },
      "file_extension": ".py",
      "mimetype": "text/x-python",
      "name": "python",
      "nbconvert_exporter": "python",
      "pygments_lexer": "ipython3",
      "version": "3.5.0"
    }
  },
  "cells": [
    {
      "cell_type": "markdown",
      "metadata": {
        "id": "sCfzqHTCh9la"
      },
      "source": [
        "# Advanced Certification in AIML\n",
        "## A Program by IIIT-H and TalentSprint"
      ]
    },
    {
      "cell_type": "markdown",
      "metadata": {
        "id": "kRUhG-LzJux_"
      },
      "source": [
        "### Not for Grading"
      ]
    },
    {
      "cell_type": "markdown",
      "metadata": {
        "id": "ZWC6jnVaPn-a"
      },
      "source": [
        "## Problem Statement"
      ]
    },
    {
      "cell_type": "markdown",
      "metadata": {
        "id": "GcdLxaMl0JMp"
      },
      "source": [
        "The problem is to identify the Suggest book from the conversation with the user, using the Python Chatbot approach."
      ]
    },
    {
      "cell_type": "markdown",
      "metadata": {
        "id": "jmscqe75jONY"
      },
      "source": [
        "### It is recommended to watch the Demystifying Chatbots Video"
      ]
    },
    {
      "cell_type": "code",
      "metadata": {
        "id": "DuWFkMn7jVlj",
        "cellView": "form",
        "colab": {
          "base_uri": "https://localhost:8080/",
          "height": 502
        },
        "outputId": "4d0708b3-a6bb-4c62-a2f1-417ee8d5780c"
      },
      "source": [
        "#@title Demystifying Chatbot Video\n",
        "from IPython.display import HTML\n",
        "\n",
        "HTML(\"\"\"<video width=\"854\" height=\"480\" controls>\n",
        "  <source src=\"https://cdn.talentsprint.com/talentsprint/archives/sc/aiml/aiml_action_workshop_part_3.mp4\" type=\"video/mp4\">\n",
        "</video>\n",
        "\"\"\")\n"
      ],
      "execution_count": null,
      "outputs": [
        {
          "output_type": "execute_result",
          "data": {
            "text/plain": [
              "<IPython.core.display.HTML object>"
            ],
            "text/html": [
              "<video width=\"854\" height=\"480\" controls>\n",
              "  <source src=\"https://cdn.talentsprint.com/talentsprint/archives/sc/aiml/aiml_action_workshop_part_3.mp4\" type=\"video/mp4\">\n",
              "</video>\n"
            ]
          },
          "metadata": {},
          "execution_count": 14
        }
      ]
    },
    {
      "cell_type": "markdown",
      "metadata": {
        "id": "YiQpi0NQjb6T"
      },
      "source": [
        "### It is recommended to watch the chatbot walkthrough video before you start working on the Pre-Hackathon"
      ]
    },
    {
      "cell_type": "code",
      "metadata": {
        "id": "0IfX7sjUjheb",
        "cellView": "form",
        "colab": {
          "base_uri": "https://localhost:8080/",
          "height": 502
        },
        "outputId": "a09f6773-7702-413e-a7cf-592a4013c74b"
      },
      "source": [
        "#@title Chatbot Walkthrough Video\n",
        "from IPython.display import HTML\n",
        "\n",
        "HTML(\"\"\"<video width=\"854\" height=\"480\" controls>\n",
        "  <source src=\"https://cdn.iiith.talentsprint.com/aiml/Experiment_related_data/Walkthrough/b17_pre_hackathon_1_chatbot_walkthrough.mp4\" type=\"video/mp4\">\n",
        "</video>\n",
        "\"\"\")"
      ],
      "execution_count": null,
      "outputs": [
        {
          "output_type": "execute_result",
          "data": {
            "text/plain": [
              "<IPython.core.display.HTML object>"
            ],
            "text/html": [
              "<video width=\"854\" height=\"480\" controls>\n",
              "  <source src=\"https://cdn.iiith.talentsprint.com/aiml/Experiment_related_data/Walkthrough/b17_pre_hackathon_1_chatbot_walkthrough.mp4\" type=\"video/mp4\">\n",
              "</video>\n"
            ]
          },
          "metadata": {},
          "execution_count": 15
        }
      ]
    },
    {
      "cell_type": "markdown",
      "metadata": {
        "id": "BNQWDhx7GGNh"
      },
      "source": [
        "# Alexa Chatbot"
      ]
    },
    {
      "cell_type": "markdown",
      "metadata": {
        "id": "i00SHgohlMNh"
      },
      "source": [
        "- Create intent, slots, utterances and update the lambda function for zodiac sign intent\n",
        "- While testing the correct zodiac sign should be uttered by the alexa\n",
        "- Refer the  Pre-Hackathon for Alexa ChatBot material to understand Alexa Chatbot architecture and the implementation"
      ]
    },
    {
      "cell_type": "markdown",
      "metadata": {
        "id": "OQ5D6hR6hiTZ"
      },
      "source": [
        "# Python Chatbot"
      ]
    },
    {
      "cell_type": "markdown",
      "metadata": {
        "id": "0cbdKF1E-0lt"
      },
      "source": [
        "* For Suggest book Intent, all the required utterances, slots, and params (JSON) files are provided for your reference. A CSV file is also provided to perform the action."
      ]
    },
    {
      "cell_type": "markdown",
      "metadata": {
        "id": "48cT_Ybr818p"
      },
      "source": [
        "### Below is the code for updating the Python Chatbot"
      ]
    },
    {
      "cell_type": "code",
      "metadata": {
        "cellView": "form",
        "id": "BSKiVEvxB844",
        "outputId": "168c8819-40f7-43e2-ea61-94566474d812",
        "colab": {
          "base_uri": "https://localhost:8080/"
        }
      },
      "source": [
        "#@title Run this cell to download the data\n",
        "!wget -qq https://cdn.iiith.talentsprint.com/aiml/Hackathon_data/Chatbot_Hackathon.zip\n",
        "!unzip -qq Chatbot_Hackathon.zip\n",
        "print(\"Data downloaded successfully\")"
      ],
      "execution_count": null,
      "outputs": [
        {
          "output_type": "stream",
          "name": "stdout",
          "text": [
            "Data downloaded successfully\n"
          ]
        }
      ]
    },
    {
      "cell_type": "code",
      "source": [
        "!unzip -qq chat_bot_python.zip"
      ],
      "metadata": {
        "id": "Oe4bF2X8LJpI"
      },
      "execution_count": 1,
      "outputs": []
    },
    {
      "cell_type": "code",
      "metadata": {
        "id": "tpZ-i7ndxPzU"
      },
      "source": [
        "# Import Libraries\n",
        "import json\n",
        "import random\n",
        "import os\n",
        "import re\n",
        "import datetime\n",
        "import pandas as pd\n",
        "import numpy as np\n",
        "\n",
        "# Importing context and .py script files\n",
        "from Context import *\n",
        "from Intent import *"
      ],
      "execution_count": 2,
      "outputs": []
    },
    {
      "cell_type": "markdown",
      "metadata": {
        "id": "lR6rVhnwDQVd"
      },
      "source": [
        "### Chatbot Architecture"
      ]
    },
    {
      "cell_type": "markdown",
      "metadata": {
        "id": "WSwQI3v0H6kR"
      },
      "source": [
        "Defining functions for Loading Intent, Collecting params, Checking actions, Getting Attributes, and Identifying Intents"
      ]
    },
    {
      "cell_type": "code",
      "metadata": {
        "id": "v9CMK_7tdbac"
      },
      "source": [
        "def loadIntent(path, intent):\n",
        "    with open(path) as fil:\n",
        "        dat = json.load(fil)\n",
        "        intent = dat[intent]\n",
        "        return Intent(intent['intentname'],intent['Parameters'], intent['actions'])\n",
        "\n",
        "def check_required_params(current_intent, attributes, context):\n",
        "    '''Collects attributes pertaining to the current intent'''\n",
        "    for para in current_intent.params:\n",
        "        if para.required:\n",
        "            if para.name not in attributes:\n",
        "                return random.choice(para.prompts), context\n",
        "    return None, context\n",
        "\n",
        "def check_actions(current_intent, attributes, context):\n",
        "    '''This function performs the action for the intent as mentioned\n",
        "    in the intent config file. Performs actions pertaining to current intent '''\n",
        "    context = IntentComplete()\n",
        "    if current_intent.action.endswith('()'):\n",
        "        return eval(current_intent.action), context\n",
        "    return current_intent.action, context\n",
        "\n",
        "def getattributes(uinput,context,attributes, intent):\n",
        "    '''This function marks the slots in user input, and updates\n",
        "    the attributes dictionary'''\n",
        "    uinput = \" \"+uinput.lower()+\" \"\n",
        "    if context.name.startswith('IntentComplete'):\n",
        "        return attributes, uinput\n",
        "    else:\n",
        "        files = os.listdir(path_slots)\n",
        "        slots = {}\n",
        "        for fil in files:\n",
        "            if fil == \".ipynb_checkpoints\":\n",
        "                continue\n",
        "            lines = open(path_slots+fil).readlines()\n",
        "            for i, line in enumerate(lines):\n",
        "                line = line.strip()\n",
        "                if len(uinput.split(\" \"+line.lower()+\" \")) > 1:\n",
        "                    slots[line] = fil[:-4]\n",
        "        for value, slot in slots.items():\n",
        "            if intent != None and slot in \" \".join([param.name for param in intent.params]):\n",
        "                uinput = re.sub(value,r'$'+slot,uinput,flags=re.IGNORECASE)\n",
        "                attributes[slot] = value\n",
        "            else:\n",
        "                uinput = re.sub(value,r'$'+slot,uinput,flags=re.IGNORECASE)\n",
        "                attributes[slot] = value\n",
        "        return attributes, uinput\n",
        "\n",
        "def input_processor(user_input, context, attributes, intent):\n",
        "    '''Update the attributes, abstract over the slots in user input'''\n",
        "    attributes, cleaned_input = getattributes(user_input, context, attributes, intent)\n",
        "    return attributes, cleaned_input\n",
        "\n",
        "def intentIdentifier(clean_input, context,current_intent):\n",
        "    clean_input = clean_input.lower()\n",
        "    if (current_intent==None):\n",
        "        return loadIntent(path_param,intentPredict(clean_input))\n",
        "    else:\n",
        "        #If current intent is not none, stick with the ongoing intent\n",
        "        #return current_intent\n",
        "        intent = loadIntent(path_param,intentPredict(clean_input))\n",
        "        if current_intent != intent:\n",
        "            for para in current_intent.params:\n",
        "                if para.name in clean_input:\n",
        "                    return current_intent\n",
        "        return loadIntent(path_param,intentPredict(clean_input))"
      ],
      "execution_count": 3,
      "outputs": []
    },
    {
      "cell_type": "markdown",
      "metadata": {
        "id": "V9fHBxSLtsXJ"
      },
      "source": [
        "Session class is one active session of the chatbot with which the user interacts. Let's go into the details:\n",
        "\n",
        "**reply( )** is the important one in our session object it takes user_input as a parameter and calls different modules of the chatbot architecture:\n",
        "\n",
        "\n",
        "*   **input_processor( )** - It helps in preprocessing and fetching the slots that can identify in the ready state\n",
        "    \n",
        "    - **getattributes( )** - It helps in identifying all the slots in the user utterance. Identify and map them to the parameters\n",
        "    \n",
        "    \n",
        "*   **intentIdentifier( )**\n",
        "\n",
        "  -  **intentPredict()** - Task to complete\n",
        "\n",
        "*   **check_required_params( )** - Based on the current intents, it goes over it's parameters\n",
        "\n",
        "*   **check_actions( )** - This function performs the action for the intent\n",
        "\n",
        "**Note:** Refer the *Chatbot_Reading_Material.pdf* for more information on the conversation flow\n",
        "\n",
        "\n",
        "       \n"
      ]
    },
    {
      "cell_type": "code",
      "metadata": {
        "id": "x5ZB31PKE1zd"
      },
      "source": [
        "class Session:\n",
        "    def __init__(self, attributes=None, active_contexts=[FirstGreeting(), IntentComplete() ]):\n",
        "        '''Initialise a default session'''\n",
        "        # Active contexts not used yet, can use it to have multiple contexts\n",
        "        self.active_contexts = active_contexts\n",
        "\n",
        "        # Contexts are flags which control dialogue flow\n",
        "        self.context = FirstGreeting()\n",
        "\n",
        "        # Intent tracks the current state of dialogue\n",
        "        self.current_intent = None\n",
        "\n",
        "        # attributes hold the information collected over the conversation\n",
        "        self.attributes = {}\n",
        "\n",
        "    def reply(self, user_input):\n",
        "        '''Generate response to user input'''\n",
        "        self.attributes, clean_input = input_processor(user_input, self.context, self.attributes, self.current_intent)\n",
        "\n",
        "        self.current_intent = intentIdentifier(clean_input, self.context, self.current_intent)\n",
        "\n",
        "        prompt, self.context = check_required_params(self.current_intent, self.attributes, self.context)\n",
        "\n",
        "        # prompt being None means all parameters satisfied, perform the intent action\n",
        "        if prompt is None and self.context.name!='IntentComplete':\n",
        "            prompt, self.context = check_actions(self.current_intent, self.attributes, self.context)\n",
        "\n",
        "        return prompt, self.attributes"
      ],
      "execution_count": 4,
      "outputs": []
    },
    {
      "cell_type": "markdown",
      "metadata": {
        "id": "WufHTIxoi0vD"
      },
      "source": [
        "Created .dat files of slots and Intent in the respective folders. Also updated configuration file in the params folder and CSV file.\n",
        "\n",
        "The path details of the respective configuration, utterances of the zodiac sign intent and the slots (year, month, day) dat files are provided below,"
      ]
    },
    {
      "cell_type": "code",
      "metadata": {
        "id": "aM7DzOSxQTOh"
      },
      "source": [
        "path_param = 'Chatbot/params/params.cfg'\n",
        "path_utterances = 'Chatbot/utterances/'\n",
        "path_slots = 'Chatbot/slots/'"
      ],
      "execution_count": 5,
      "outputs": []
    },
    {
      "cell_type": "markdown",
      "metadata": {
        "id": "2LW4eLJPmUQ_"
      },
      "source": [
        "The CSV file path which contains the possible combinations to identify the Zodiac_Sign based on the given date of birth was given"
      ]
    },
    {
      "cell_type": "code",
      "metadata": {
        "id": "EyzMvRbPAil_"
      },
      "source": [
        "path_csv_zodiac = 'Chatbot/books.csv'"
      ],
      "execution_count": 6,
      "outputs": []
    },
    {
      "cell_type": "markdown",
      "metadata": {
        "id": "UMddI6OZTSdL"
      },
      "source": [
        "`intentPredict()` function call is specified in the Conversation Flow, which returns the intent to be called in our case it is Zodiac Sign\n",
        "\n",
        "**Note:** As this pre-hackathon dialogue flow is limited to a single intent, the intentPredict() function is hardcoded to return only the \"get Zodiac Sign\" intent."
      ]
    },
    {
      "cell_type": "code",
      "metadata": {
        "id": "oaGk1MLg5E-k"
      },
      "source": [
        "# Take the user input as test data and predict using the model.\n",
        "\n",
        "def intentPredict(user_input):  # Do not change the function name\n",
        "    return \"get_suggest_book\" # Single Intent for a Pre-Hackathon"
      ],
      "execution_count": 7,
      "outputs": []
    },
    {
      "cell_type": "code",
      "source": [
        "def get_books_list(df):\n",
        "  books = []\n",
        "  for _, row in df.iterrows():\n",
        "    book = {\n",
        "        'Title': row['Title'],\n",
        "        'Author': row['Author'].lower(),\n",
        "        'Language': row['Language'].lower(),\n",
        "        'Genre': row['Genre'].lower()\n",
        "      }\n",
        "    books.append(book)\n",
        "  return books"
      ],
      "metadata": {
        "id": "kTH6wc2ACkUY"
      },
      "execution_count": 8,
      "outputs": []
    },
    {
      "cell_type": "code",
      "source": [
        "def recommend_book(preferences, books):\n",
        "  filtered_books = [book for book in books if all(book[key] == value for key, value in preferences.items())]\n",
        "\n",
        "  if filtered_books:\n",
        "    return random.choice(filtered_books)\n",
        "  else:\n",
        "    return \"No matching books found.\""
      ],
      "metadata": {
        "id": "YrfgF-xWC_NI"
      },
      "execution_count": 9,
      "outputs": []
    },
    {
      "cell_type": "code",
      "source": [
        "#df = pd.read_csv(path_csv_zodiac)"
      ],
      "metadata": {
        "id": "88Ao_oWnDP2w"
      },
      "execution_count": null,
      "outputs": []
    },
    {
      "cell_type": "code",
      "source": [
        "#df.head()"
      ],
      "metadata": {
        "id": "44KbF0PLDR6n"
      },
      "execution_count": null,
      "outputs": []
    },
    {
      "cell_type": "code",
      "source": [
        "#books_list = get_books_list(df)"
      ],
      "metadata": {
        "id": "GIASJRK6DYq3"
      },
      "execution_count": null,
      "outputs": []
    },
    {
      "cell_type": "code",
      "source": [
        "#books_list"
      ],
      "metadata": {
        "id": "4kDHia4VDbEI"
      },
      "execution_count": null,
      "outputs": []
    },
    {
      "cell_type": "markdown",
      "metadata": {
        "id": "pF-JVzk0nBrQ"
      },
      "source": [
        "Run This API Blocks to perform action after satisfying all the attributes specified for a particular Intent"
      ]
    },
    {
      "cell_type": "code",
      "metadata": {
        "id": "RAucdXx3w0rt"
      },
      "source": [
        "# Note: Zodiac_sign.csv records are taken from the internet; however it is open to adding multiple records.\n",
        "\n",
        "# Performs action for zodiac sign with csv file as source\n",
        "def suggestBook_Action():\n",
        "    # global session\n",
        "    attr = session.attributes\n",
        "\n",
        "    if attr[\"author\"]:\n",
        "      author = attr[\"author\"].lower()\n",
        "    else:\n",
        "      author = None\n",
        "\n",
        "    if attr[\"language\"]:\n",
        "      language = attr[\"language\"].lower()\n",
        "    else:\n",
        "      language = None\n",
        "\n",
        "    if attr[\"genre\"]:\n",
        "      genre = attr[\"genre\"].lower()\n",
        "    else:\n",
        "      genre = None\n",
        "\n",
        "    user_preferences = {}\n",
        "    if author and author != 'author':\n",
        "      user_preferences[\"Author\"] = author\n",
        "    if language and language != 'language':\n",
        "      user_preferences[\"Language\"] = language\n",
        "    if genre and genre != 'genre':\n",
        "      user_preferences[\"Genre\"] = genre\n",
        "\n",
        "    df = pd.read_csv(path_csv_zodiac)\n",
        "    books_list = get_books_list(df)\n",
        "    recommended_book = recommend_book(user_preferences,books_list)\n",
        "    zodiac = \"\"\n",
        "\n",
        "    try:\n",
        "      if isinstance(recommended_book, dict):\n",
        "        author_name = recommended_book['Author'].title()\n",
        "        return f\"Recommended Book: {recommended_book['Title']} by {author_name}\"\n",
        "      else:\n",
        "        return \"author is  {author}, language is {language}, genre is {genre}, No matching books found.\".format(author=author,language=language,genre=genre)\n",
        "    except ValueError:\n",
        "        return \"This is not a valid date\""
      ],
      "execution_count": 10,
      "outputs": []
    },
    {
      "cell_type": "markdown",
      "metadata": {
        "id": "Bp0lrdR8nS8j"
      },
      "source": [
        "###Main Block to access ChatBot\n",
        "enter 'end' to stop the bot"
      ]
    },
    {
      "cell_type": "markdown",
      "metadata": {
        "id": "-nzznhcEm-vO"
      },
      "source": [
        "Chatbot configuration class"
      ]
    },
    {
      "cell_type": "code",
      "metadata": {
        "id": "4S4rXiz9CQzo"
      },
      "source": [
        "class BOT_config():\n",
        "    def __init__(self, session):\n",
        "        self.welcome='BOT: Hi! Welcome to Talentsprint Hackathon, How may i assist you?'\n",
        "        self.exits=[\"finish\",\"exit\",\"end\",\"quit\",\"stop\",\"close\", \"Bye\"]\n",
        "        if session.context.name == 'IntentComplete':\n",
        "            session.attributes = {}\n",
        "            session.context = FirstGreeting()\n",
        "            session.current_intent = None"
      ],
      "execution_count": 11,
      "outputs": []
    },
    {
      "cell_type": "markdown",
      "metadata": {
        "id": "eMHpVbnWnDo_"
      },
      "source": [
        "#### Conversational Chatbot\n",
        "\n",
        "Interact with the bot by giving any utterance\n",
        "\n",
        "Ex:  `find zodiac sign`"
      ]
    },
    {
      "cell_type": "markdown",
      "source": [],
      "metadata": {
        "id": "CjXLd_DgF-01"
      }
    },
    {
      "cell_type": "code",
      "source": [
        "from google.colab import drive\n",
        "drive.mount('/content/drive')"
      ],
      "metadata": {
        "colab": {
          "base_uri": "https://localhost:8080/"
        },
        "id": "SNs8a1CGGC5r",
        "outputId": "347c7dfc-cffc-43a5-bf5e-7e57cd26b4fb"
      },
      "execution_count": null,
      "outputs": [
        {
          "output_type": "stream",
          "name": "stdout",
          "text": [
            "Mounted at /content/drive\n"
          ]
        }
      ]
    },
    {
      "cell_type": "code",
      "metadata": {
        "id": "ycL4LskDEULN",
        "colab": {
          "base_uri": "https://localhost:8080/"
        },
        "outputId": "98504f2f-aae6-450a-b000-b4b252547a87"
      },
      "source": [
        "session = Session()\n",
        "print(BOT_config(session).welcome)\n",
        "while (True):\n",
        "    inp = input('User: ')\n",
        "    if inp in BOT_config(session).exits:\n",
        "        break\n",
        "    prompt = session.reply(inp)\n",
        "    print ('BOT:', prompt)"
      ],
      "execution_count": 12,
      "outputs": [
        {
          "name": "stdout",
          "output_type": "stream",
          "text": [
            "BOT: Hi! Welcome to Talentsprint Hackathon, How may i assist you?\n",
            "User: suggest book based on Harper Lee English Fiction\n",
            "BOT: ('Recommended Book: To Kill a Mockingbird by Harper Lee', {'language': 'English', 'genre': 'Fiction', 'author': 'Harper Lee'})\n",
            "User: suggest book based on George Orwell English Dystopian\n",
            "BOT: ('Recommended Book: 1984 by George Orwell', {'language': 'English', 'genre': 'Dystopian', 'author': 'George Orwell'})\n",
            "User: end\n"
          ]
        }
      ]
    }
  ]
}